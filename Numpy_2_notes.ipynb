{
  "nbformat": 4,
  "nbformat_minor": 0,
  "metadata": {
    "colab": {
      "provenance": []
    },
    "kernelspec": {
      "name": "python3",
      "display_name": "Python 3"
    },
    "language_info": {
      "name": "python"
    }
  },
  "cells": [
    {
      "cell_type": "markdown",
      "source": [
        "# Numpy 2"
      ],
      "metadata": {
        "id": "IZgrkn3uZkNt"
      }
    },
    {
      "cell_type": "markdown",
      "source": [
        "---"
      ],
      "metadata": {
        "id": "Da487JrLx5Ax"
      }
    },
    {
      "cell_type": "markdown",
      "metadata": {
        "id": "axTfX41Q1tzv"
      },
      "source": [
        "## **Content**\n",
        "\n",
        "- Working with 2D arrays (Matrices)\n",
        "  - Transpose\n",
        "  - Indexing\n",
        "  - Slicing\n",
        "  - Fancy Indexing (Masking)\n",
        "- Aggregate Functions\n",
        "- Logical Operations\n",
        "  - `np.any()`\n",
        "  - `np.all()`\n",
        "  - `np.where()`\n",
        "- Use Case: Fitness data analysis"
      ]
    },
    {
      "cell_type": "markdown",
      "source": [
        "---"
      ],
      "metadata": {
        "id": "qSiGGcc3yIDm"
      }
    },
    {
      "cell_type": "markdown",
      "metadata": {
        "id": "ZA0uqFwD1t0i"
      },
      "source": [
        "## **Working with 2D arrays (Matrices)**\n",
        "\n",
        "Let's create an array -"
      ]
    },
    {
      "cell_type": "code",
      "source": [
        "import numpy as np\n",
        "a = np.array(range(16))\n",
        "a"
      ],
      "metadata": {
        "id": "vSpQigQK2tiu",
        "colab": {
          "base_uri": "https://localhost:8080/"
        },
        "outputId": "930ef832-4732-4505-9b29-6badfc6b7713"
      },
      "execution_count": 1,
      "outputs": [
        {
          "output_type": "execute_result",
          "data": {
            "text/plain": [
              "array([ 0,  1,  2,  3,  4,  5,  6,  7,  8,  9, 10, 11, 12, 13, 14, 15])"
            ]
          },
          "metadata": {},
          "execution_count": 1
        }
      ]
    },
    {
      "cell_type": "markdown",
      "source": [
        "What will be it's shape and dimensions?"
      ],
      "metadata": {
        "id": "bkxY5uWw2yJM"
      }
    },
    {
      "cell_type": "code",
      "source": [
        "a.shape"
      ],
      "metadata": {
        "id": "xGUz0CeR205W",
        "colab": {
          "base_uri": "https://localhost:8080/"
        },
        "outputId": "512036e4-72dc-4783-81b2-d72d79820776"
      },
      "execution_count": 2,
      "outputs": [
        {
          "output_type": "execute_result",
          "data": {
            "text/plain": [
              "(16,)"
            ]
          },
          "metadata": {},
          "execution_count": 2
        }
      ]
    },
    {
      "cell_type": "code",
      "source": [
        "a.ndim"
      ],
      "metadata": {
        "id": "lxiYpPm821v4",
        "colab": {
          "base_uri": "https://localhost:8080/"
        },
        "outputId": "e064b6ce-918b-46ab-da97-9aeb25877b01"
      },
      "execution_count": 3,
      "outputs": [
        {
          "output_type": "execute_result",
          "data": {
            "text/plain": [
              "1"
            ]
          },
          "metadata": {},
          "execution_count": 3
        }
      ]
    },
    {
      "cell_type": "markdown",
      "source": [
        "#### How can we convert this array to a 2-dimensional array?\n",
        "\n",
        "- Using `reshape()`\n",
        "\n",
        "For a 2D array, we will have to specify the followings :-\n",
        "- **First argument** is **no. of rows**\n",
        "- **Second argument** is **no. of columns**\n",
        "\n",
        "\\\n",
        "Let's try converting it into a `8x2` array."
      ],
      "metadata": {
        "id": "_bKNUgUV29xt"
      }
    },
    {
      "cell_type": "code",
      "source": [
        "a.reshape(8, 2)"
      ],
      "metadata": {
        "id": "PDSN2LQ73K2y",
        "colab": {
          "base_uri": "https://localhost:8080/"
        },
        "outputId": "c9f66dbc-dc35-4fa9-922c-1e17da239705"
      },
      "execution_count": 4,
      "outputs": [
        {
          "output_type": "execute_result",
          "data": {
            "text/plain": [
              "array([[ 0,  1],\n",
              "       [ 2,  3],\n",
              "       [ 4,  5],\n",
              "       [ 6,  7],\n",
              "       [ 8,  9],\n",
              "       [10, 11],\n",
              "       [12, 13],\n",
              "       [14, 15]])"
            ]
          },
          "metadata": {},
          "execution_count": 4
        }
      ]
    },
    {
      "cell_type": "markdown",
      "source": [
        "Let's try converting it into a `4x4` array."
      ],
      "metadata": {
        "id": "BkuH2ggf3o8p"
      }
    },
    {
      "cell_type": "code",
      "source": [
        "a.reshape(4, 4)"
      ],
      "metadata": {
        "id": "SsGmSKSO3LSr",
        "colab": {
          "base_uri": "https://localhost:8080/"
        },
        "outputId": "a7e351d0-234a-4d34-c287-2debd6f72261"
      },
      "execution_count": 5,
      "outputs": [
        {
          "output_type": "execute_result",
          "data": {
            "text/plain": [
              "array([[ 0,  1,  2,  3],\n",
              "       [ 4,  5,  6,  7],\n",
              "       [ 8,  9, 10, 11],\n",
              "       [12, 13, 14, 15]])"
            ]
          },
          "metadata": {},
          "execution_count": 5
        }
      ]
    },
    {
      "cell_type": "code",
      "source": [
        "a.reshape(4, 5)"
      ],
      "metadata": {
        "id": "v9joeJ45397X",
        "colab": {
          "base_uri": "https://localhost:8080/",
          "height": 144
        },
        "outputId": "c01ab031-a290-48c3-f11b-d867fb470b08"
      },
      "execution_count": 6,
      "outputs": [
        {
          "output_type": "error",
          "ename": "ValueError",
          "evalue": "cannot reshape array of size 16 into shape (4,5)",
          "traceback": [
            "\u001b[0;31m---------------------------------------------------------------------------\u001b[0m",
            "\u001b[0;31mValueError\u001b[0m                                Traceback (most recent call last)",
            "\u001b[0;32m<ipython-input-6-05ad01dfd0f5>\u001b[0m in \u001b[0;36m<cell line: 1>\u001b[0;34m()\u001b[0m\n\u001b[0;32m----> 1\u001b[0;31m \u001b[0ma\u001b[0m\u001b[0;34m.\u001b[0m\u001b[0mreshape\u001b[0m\u001b[0;34m(\u001b[0m\u001b[0;36m4\u001b[0m\u001b[0;34m,\u001b[0m \u001b[0;36m5\u001b[0m\u001b[0;34m)\u001b[0m\u001b[0;34m\u001b[0m\u001b[0;34m\u001b[0m\u001b[0m\n\u001b[0m",
            "\u001b[0;31mValueError\u001b[0m: cannot reshape array of size 16 into shape (4,5)"
          ]
        }
      ]
    },
    {
      "cell_type": "markdown",
      "source": [
        "**This will give an Error. Why?**\n",
        "\n",
        "* We have 16 elements in `a`, but `reshape(4, 5)` is trying to fill in `4x5 = 20` elements.\n",
        "* Therefore, whatever the shape we're trying to reshape to, must be able to incorporate the number of elements that we have.\n"
      ],
      "metadata": {
        "id": "OypYvUPA4ECF"
      }
    },
    {
      "cell_type": "code",
      "source": [
        "a.reshape(8, -1)"
      ],
      "metadata": {
        "id": "Zgd6V6vv5kda",
        "colab": {
          "base_uri": "https://localhost:8080/"
        },
        "outputId": "e92e264f-952b-479c-a71a-bc704ce6a9d6"
      },
      "execution_count": 7,
      "outputs": [
        {
          "output_type": "execute_result",
          "data": {
            "text/plain": [
              "array([[ 0,  1],\n",
              "       [ 2,  3],\n",
              "       [ 4,  5],\n",
              "       [ 6,  7],\n",
              "       [ 8,  9],\n",
              "       [10, 11],\n",
              "       [12, 13],\n",
              "       [14, 15]])"
            ]
          },
          "metadata": {},
          "execution_count": 7
        }
      ]
    },
    {
      "cell_type": "markdown",
      "source": [
        "Notice that Python automatically figured out what should be the replacement of `-1` argument, given that the first argument is `8`.\n",
        "\n",
        "We can also put `-1` as the first argument. As long as one argument is given, it will calculate the other one."
      ],
      "metadata": {
        "id": "RJnnrtBo5pBJ"
      }
    },
    {
      "cell_type": "markdown",
      "source": [
        "**What if we pass both args as `-1`?**"
      ],
      "metadata": {
        "id": "uJatBMOL6Yi2"
      }
    },
    {
      "cell_type": "code",
      "source": [
        "a.reshape(-1, -1)"
      ],
      "metadata": {
        "id": "q4q_XsYF6a5X",
        "colab": {
          "base_uri": "https://localhost:8080/",
          "height": 144
        },
        "outputId": "6ec2fc48-0a9b-445e-8604-373a58032957"
      },
      "execution_count": 8,
      "outputs": [
        {
          "output_type": "error",
          "ename": "ValueError",
          "evalue": "can only specify one unknown dimension",
          "traceback": [
            "\u001b[0;31m---------------------------------------------------------------------------\u001b[0m",
            "\u001b[0;31mValueError\u001b[0m                                Traceback (most recent call last)",
            "\u001b[0;32m<ipython-input-8-decf4fe03d74>\u001b[0m in \u001b[0;36m<cell line: 1>\u001b[0;34m()\u001b[0m\n\u001b[0;32m----> 1\u001b[0;31m \u001b[0ma\u001b[0m\u001b[0;34m.\u001b[0m\u001b[0mreshape\u001b[0m\u001b[0;34m(\u001b[0m\u001b[0;34m-\u001b[0m\u001b[0;36m1\u001b[0m\u001b[0;34m,\u001b[0m \u001b[0;34m-\u001b[0m\u001b[0;36m1\u001b[0m\u001b[0;34m)\u001b[0m\u001b[0;34m\u001b[0m\u001b[0;34m\u001b[0m\u001b[0m\n\u001b[0m",
            "\u001b[0;31mValueError\u001b[0m: can only specify one unknown dimension"
          ]
        }
      ]
    },
    {
      "cell_type": "markdown",
      "source": [
        "- You need to give at least one dimension."
      ],
      "metadata": {
        "id": "sfrLS-286e0J"
      }
    },
    {
      "cell_type": "markdown",
      "source": [
        "Let's save `a` as a `8 x 2` array (matrix) for now."
      ],
      "metadata": {
        "id": "TDTV9SuI6qjx"
      }
    },
    {
      "cell_type": "code",
      "source": [
        "a = a.reshape(8, 2)"
      ],
      "metadata": {
        "id": "qfjR4Qkm7Em1"
      },
      "execution_count": 9,
      "outputs": []
    },
    {
      "cell_type": "markdown",
      "source": [
        "**What will be the length of `a`?**\n",
        "\n",
        "* It will be 8, since it contains 8 lists as it's elements.\n",
        "* Each of these lists have 2 elements, but that's a different thing.\n",
        "\n",
        "**Explanation: len(nd array) will give you the magnitude of first dimension**"
      ],
      "metadata": {
        "id": "UiQG1oTr7G8S"
      }
    },
    {
      "cell_type": "code",
      "source": [
        "len(a)"
      ],
      "metadata": {
        "id": "Xjw05oaw7Kwq",
        "colab": {
          "base_uri": "https://localhost:8080/"
        },
        "outputId": "ff47d792-f9d0-464f-dc28-e19beafed046"
      },
      "execution_count": 10,
      "outputs": [
        {
          "output_type": "execute_result",
          "data": {
            "text/plain": [
              "8"
            ]
          },
          "metadata": {},
          "execution_count": 10
        }
      ]
    },
    {
      "cell_type": "code",
      "source": [
        "len(a[0])"
      ],
      "metadata": {
        "id": "JQ7bC6iP7xyA",
        "colab": {
          "base_uri": "https://localhost:8080/"
        },
        "outputId": "ee1340af-d4b2-4074-a566-47cd0ba0c5ec"
      },
      "execution_count": 11,
      "outputs": [
        {
          "output_type": "execute_result",
          "data": {
            "text/plain": [
              "2"
            ]
          },
          "metadata": {},
          "execution_count": 11
        }
      ]
    },
    {
      "cell_type": "markdown",
      "source": [
        "---"
      ],
      "metadata": {
        "id": "oXP_5Y77z94h"
      }
    },
    {
      "cell_type": "markdown",
      "source": [
        "### **Transpose**\n",
        "\n",
        "Let's create a 2D numpy array."
      ],
      "metadata": {
        "id": "amN9RGI8-K1m"
      }
    },
    {
      "cell_type": "code",
      "source": [
        "a = np.arange(12).reshape(3,4)\n",
        "a"
      ],
      "metadata": {
        "id": "bsTwx_OX3LX7",
        "colab": {
          "base_uri": "https://localhost:8080/"
        },
        "outputId": "fdd00a97-f527-463f-e31f-6a71dda83c8b"
      },
      "execution_count": 12,
      "outputs": [
        {
          "output_type": "execute_result",
          "data": {
            "text/plain": [
              "array([[ 0,  1,  2,  3],\n",
              "       [ 4,  5,  6,  7],\n",
              "       [ 8,  9, 10, 11]])"
            ]
          },
          "metadata": {},
          "execution_count": 12
        }
      ]
    },
    {
      "cell_type": "code",
      "source": [
        "a.shape"
      ],
      "metadata": {
        "id": "Q8xKsZpA-0mZ",
        "colab": {
          "base_uri": "https://localhost:8080/"
        },
        "outputId": "a47e822f-a187-45dd-9ac9-113b0306fd1a"
      },
      "execution_count": 13,
      "outputs": [
        {
          "output_type": "execute_result",
          "data": {
            "text/plain": [
              "(3, 4)"
            ]
          },
          "metadata": {},
          "execution_count": 13
        }
      ]
    },
    {
      "cell_type": "markdown",
      "source": [
        "There is another operation on a multi-dimensional array, known as **Transpose**.\n",
        "\n",
        "It basically means that the no. of rows is interchanged by no. of cols, and vice-versa."
      ],
      "metadata": {
        "id": "cRh-_qre-12v"
      }
    },
    {
      "cell_type": "code",
      "source": [
        "a.T"
      ],
      "metadata": {
        "id": "5hUMv3_j_I7t",
        "colab": {
          "base_uri": "https://localhost:8080/"
        },
        "outputId": "7342e823-2bda-4065-c664-f9a9b7e5e8eb"
      },
      "execution_count": 14,
      "outputs": [
        {
          "output_type": "execute_result",
          "data": {
            "text/plain": [
              "array([[ 0,  4,  8],\n",
              "       [ 1,  5,  9],\n",
              "       [ 2,  6, 10],\n",
              "       [ 3,  7, 11]])"
            ]
          },
          "metadata": {},
          "execution_count": 14
        }
      ]
    },
    {
      "cell_type": "markdown",
      "source": [
        "Let's verify the shape of this transpose array -"
      ],
      "metadata": {
        "id": "J9PM0x94_SIB"
      }
    },
    {
      "cell_type": "code",
      "source": [
        "a.T.shape"
      ],
      "metadata": {
        "id": "HaPJaL2S_VC5",
        "colab": {
          "base_uri": "https://localhost:8080/"
        },
        "outputId": "99420efc-3205-4cfc-be26-442ececf2a0d"
      },
      "execution_count": 15,
      "outputs": [
        {
          "output_type": "execute_result",
          "data": {
            "text/plain": [
              "(4, 3)"
            ]
          },
          "metadata": {},
          "execution_count": 15
        }
      ]
    },
    {
      "cell_type": "markdown",
      "source": [
        "---"
      ],
      "metadata": {
        "id": "6zBJAobk0Gcw"
      }
    },
    {
      "cell_type": "markdown",
      "metadata": {
        "id": "Qjk7VTGSAJ6c"
      },
      "source": [
        "## **Indexing in 2D arrays**\n",
        "\n",
        "- Similar to Python lists"
      ]
    },
    {
      "cell_type": "markdown",
      "source": [
        "<img src = https://d2beiqkhq929f0.cloudfront.net/public_assets/assets/000/054/693/original/2dnp.png?1697949471 height = \"600\" width = \"700\">"
      ],
      "metadata": {
        "id": "cRfvG6dX1tw4"
      }
    },
    {
      "cell_type": "code",
      "source": [
        "a"
      ],
      "metadata": {
        "colab": {
          "base_uri": "https://localhost:8080/"
        },
        "id": "Rxi1rws7mlYV",
        "outputId": "585938aa-cfb2-4973-986f-429e0b49ea11"
      },
      "execution_count": 16,
      "outputs": [
        {
          "output_type": "execute_result",
          "data": {
            "text/plain": [
              "array([[ 0,  1,  2,  3],\n",
              "       [ 4,  5,  6,  7],\n",
              "       [ 8,  9, 10, 11]])"
            ]
          },
          "metadata": {},
          "execution_count": 16
        }
      ]
    },
    {
      "cell_type": "markdown",
      "source": [
        "**Can we extract just the element `6` from `a`?**"
      ],
      "metadata": {
        "id": "CZXF1yOFmoBs"
      }
    },
    {
      "cell_type": "code",
      "source": [
        "# Accessing 2nd row and 3rd col -\n",
        "a[1, 2]"
      ],
      "metadata": {
        "id": "J1Gj6YV99wpJ",
        "colab": {
          "base_uri": "https://localhost:8080/"
        },
        "outputId": "6162db18-6f0e-4495-df35-75640c348283"
      },
      "execution_count": 17,
      "outputs": [
        {
          "output_type": "execute_result",
          "data": {
            "text/plain": [
              "6"
            ]
          },
          "metadata": {},
          "execution_count": 17
        }
      ]
    },
    {
      "cell_type": "markdown",
      "source": [
        "This can also be written as"
      ],
      "metadata": {
        "id": "o6KG9ZzH90o_"
      }
    },
    {
      "cell_type": "code",
      "source": [
        "a[1][2]"
      ],
      "metadata": {
        "id": "3OQxxEkq929x",
        "colab": {
          "base_uri": "https://localhost:8080/"
        },
        "outputId": "65edfda4-3539-400a-e8e0-0eb218c197d0"
      },
      "execution_count": 18,
      "outputs": [
        {
          "output_type": "execute_result",
          "data": {
            "text/plain": [
              "6"
            ]
          },
          "metadata": {},
          "execution_count": 18
        }
      ]
    },
    {
      "cell_type": "markdown",
      "source": [
        "---"
      ],
      "metadata": {
        "id": "f7iCpy2H0r3A"
      }
    },
    {
      "cell_type": "code",
      "execution_count": 19,
      "metadata": {
        "id": "ygqRIP93AJ6d",
        "colab": {
          "base_uri": "https://localhost:8080/"
        },
        "outputId": "736b94da-1e47-4835-d15e-63430c4002e2"
      },
      "outputs": [
        {
          "output_type": "execute_result",
          "data": {
            "text/plain": [
              "array([[1, 2, 3],\n",
              "       [4, 5, 6],\n",
              "       [7, 8, 9]])"
            ]
          },
          "metadata": {},
          "execution_count": 19
        }
      ],
      "source": [
        "m1 = np.arange(1,10).reshape((3,3))\n",
        "m1"
      ]
    },
    {
      "cell_type": "markdown",
      "metadata": {
        "id": "0mPY3gu8AJ6d"
      },
      "source": [
        "**What will be the output of this?**"
      ]
    },
    {
      "cell_type": "code",
      "execution_count": 20,
      "metadata": {
        "id": "TfCUl6xpAJ6e",
        "colab": {
          "base_uri": "https://localhost:8080/"
        },
        "outputId": "c464087f-eed9-4762-d40b-861283b97ff5"
      },
      "outputs": [
        {
          "output_type": "execute_result",
          "data": {
            "text/plain": [
              "5"
            ]
          },
          "metadata": {},
          "execution_count": 20
        }
      ],
      "source": [
        "m1[1, 1] # m1[row,column]"
      ]
    },
    {
      "cell_type": "markdown",
      "metadata": {
        "id": "4Rcl57a1AJ6e"
      },
      "source": [
        "We saw how we can use list of indexes in numpy array."
      ]
    },
    {
      "cell_type": "code",
      "execution_count": 21,
      "metadata": {
        "id": "4H11tcw8AJ6e"
      },
      "outputs": [],
      "source": [
        "m1 = np.array([100,200,300,400,500,600])"
      ]
    },
    {
      "cell_type": "markdown",
      "source": [
        "**Will this work now?**"
      ],
      "metadata": {
        "id": "CaGAhBl9APdz"
      }
    },
    {
      "cell_type": "code",
      "source": [
        "m1[2, 3]"
      ],
      "metadata": {
        "id": "tqqBoqwMASPo",
        "colab": {
          "base_uri": "https://localhost:8080/",
          "height": 144
        },
        "outputId": "40d60ceb-3932-425c-9ddc-3676c159e314"
      },
      "execution_count": 22,
      "outputs": [
        {
          "output_type": "error",
          "ename": "IndexError",
          "evalue": "too many indices for array: array is 1-dimensional, but 2 were indexed",
          "traceback": [
            "\u001b[0;31m---------------------------------------------------------------------------\u001b[0m",
            "\u001b[0;31mIndexError\u001b[0m                                Traceback (most recent call last)",
            "\u001b[0;32m<ipython-input-22-963ce94bbe14>\u001b[0m in \u001b[0;36m<cell line: 1>\u001b[0;34m()\u001b[0m\n\u001b[0;32m----> 1\u001b[0;31m \u001b[0mm1\u001b[0m\u001b[0;34m[\u001b[0m\u001b[0;36m2\u001b[0m\u001b[0;34m,\u001b[0m \u001b[0;36m3\u001b[0m\u001b[0;34m]\u001b[0m\u001b[0;34m\u001b[0m\u001b[0;34m\u001b[0m\u001b[0m\n\u001b[0m",
            "\u001b[0;31mIndexError\u001b[0m: too many indices for array: array is 1-dimensional, but 2 were indexed"
          ]
        }
      ]
    },
    {
      "cell_type": "markdown",
      "source": [
        "**Note:**\n",
        "- Since `m1` is a 1D array, this will not work.\n",
        "- This is because there are no row and column entity here.\n",
        "\n",
        "Therefore, you cannot use the same syntax for 1D arrays, as you did with 2D arrays, and vice-versa.\n",
        "\n",
        "\\\n",
        "However with a little tweak in this code, we can access elements of `m1` at different positions/indices."
      ],
      "metadata": {
        "id": "9lvKzSZCAYK6"
      }
    },
    {
      "cell_type": "code",
      "source": [
        "m1[[2, 3]]"
      ],
      "metadata": {
        "id": "lw0FGQ16Aws8",
        "colab": {
          "base_uri": "https://localhost:8080/"
        },
        "outputId": "364a4982-9737-41d9-a643-1b64585b132c"
      },
      "execution_count": 23,
      "outputs": [
        {
          "output_type": "execute_result",
          "data": {
            "text/plain": [
              "array([300, 400])"
            ]
          },
          "metadata": {},
          "execution_count": 23
        }
      ]
    },
    {
      "cell_type": "markdown",
      "source": [
        "---"
      ],
      "metadata": {
        "id": "SLSCvy2c1GZP"
      }
    },
    {
      "cell_type": "markdown",
      "metadata": {
        "id": "_UnBC4OMBf7J"
      },
      "source": [
        "#### **How will you print the diagonal elements of the following 2D array?**"
      ]
    },
    {
      "cell_type": "code",
      "execution_count": 24,
      "metadata": {
        "id": "E2VTJFRdBf7P",
        "colab": {
          "base_uri": "https://localhost:8080/"
        },
        "outputId": "796b44e7-4e30-4842-b5e2-24813997b9bd"
      },
      "outputs": [
        {
          "output_type": "execute_result",
          "data": {
            "text/plain": [
              "array([[0, 1, 2],\n",
              "       [3, 4, 5],\n",
              "       [6, 7, 8]])"
            ]
          },
          "metadata": {},
          "execution_count": 24
        }
      ],
      "source": [
        "m1 = np.arange(9).reshape((3,3))\n",
        "m1"
      ]
    },
    {
      "cell_type": "code",
      "execution_count": 25,
      "metadata": {
        "id": "-EXDg4fGBf7Q",
        "colab": {
          "base_uri": "https://localhost:8080/"
        },
        "outputId": "ee9fccd8-794d-4691-a872-bd6d23dbc13b"
      },
      "outputs": [
        {
          "output_type": "execute_result",
          "data": {
            "text/plain": [
              "array([0, 4, 8])"
            ]
          },
          "metadata": {},
          "execution_count": 25
        }
      ],
      "source": [
        "m1[[0,1,2],[0,1,2]] # picking up element (0,0), (1,1) and (2,2)"
      ]
    },
    {
      "cell_type": "markdown",
      "source": [
        "When list of indexes is provided for both rows and cols, for example: `m1[[0,1,2],[0,1,2]]`\n",
        "\n",
        "It selects individual elements i.e. `m1[0][0], m1[1][1] and m2[2][2]`.\n",
        "\n",
        "\n"
      ],
      "metadata": {
        "id": "q6Y4kqzHB4lB"
      }
    },
    {
      "cell_type": "markdown",
      "source": [
        "---"
      ],
      "metadata": {
        "id": "jzUWqTLA1KBF"
      }
    },
    {
      "cell_type": "markdown",
      "metadata": {
        "id": "cKmm6fX21t1A"
      },
      "source": [
        "## **Slicing in 2D arrays**\n",
        "\n",
        "- We need to **provide two slice ranges**, one for **row** and one for **column**.\n",
        "\n",
        "\n",
        "- We can also **mix Indexing and Slicing**"
      ]
    },
    {
      "cell_type": "code",
      "execution_count": 26,
      "metadata": {
        "id": "zQmukPpor5dz",
        "colab": {
          "base_uri": "https://localhost:8080/"
        },
        "outputId": "cbf57312-8908-46c2-f39d-5dcb21c844a8"
      },
      "outputs": [
        {
          "output_type": "execute_result",
          "data": {
            "text/plain": [
              "array([[ 0,  1,  2,  3],\n",
              "       [ 4,  5,  6,  7],\n",
              "       [ 8,  9, 10, 11]])"
            ]
          },
          "metadata": {},
          "execution_count": 26
        }
      ],
      "source": [
        "m1 = np.arange(12).reshape(3,4)\n",
        "m1"
      ]
    },
    {
      "cell_type": "code",
      "execution_count": 27,
      "metadata": {
        "id": "TtS5ZlBer8AE",
        "colab": {
          "base_uri": "https://localhost:8080/"
        },
        "outputId": "1fd9dc71-b966-452c-e373-f6f60bb06daa"
      },
      "outputs": [
        {
          "output_type": "execute_result",
          "data": {
            "text/plain": [
              "array([[0, 1, 2, 3],\n",
              "       [4, 5, 6, 7]])"
            ]
          },
          "metadata": {},
          "execution_count": 27
        }
      ],
      "source": [
        "m1[:2] # gives first two rows"
      ]
    },
    {
      "cell_type": "markdown",
      "source": [
        "#### **How can we get columns from a 2D array?**"
      ],
      "metadata": {
        "id": "HmvTpXb5HW7j"
      }
    },
    {
      "cell_type": "code",
      "source": [
        "m1[:, :2] # gives first two columns"
      ],
      "metadata": {
        "id": "Tx28EXFXHaX1",
        "colab": {
          "base_uri": "https://localhost:8080/"
        },
        "outputId": "596db0c9-ec52-40e1-aafc-c530b3cdbcc6"
      },
      "execution_count": 28,
      "outputs": [
        {
          "output_type": "execute_result",
          "data": {
            "text/plain": [
              "array([[0, 1],\n",
              "       [4, 5],\n",
              "       [8, 9]])"
            ]
          },
          "metadata": {},
          "execution_count": 28
        }
      ]
    },
    {
      "cell_type": "code",
      "source": [
        "m1[:, 1:3] # gives 2nd and 3rd col"
      ],
      "metadata": {
        "id": "njPEUiS4E5nP",
        "colab": {
          "base_uri": "https://localhost:8080/"
        },
        "outputId": "7ea65056-758b-49ed-f625-b876896973d9"
      },
      "execution_count": 29,
      "outputs": [
        {
          "output_type": "execute_result",
          "data": {
            "text/plain": [
              "array([[ 1,  2],\n",
              "       [ 5,  6],\n",
              "       [ 9, 10]])"
            ]
          },
          "metadata": {},
          "execution_count": 29
        }
      ]
    },
    {
      "cell_type": "markdown",
      "source": [
        "---"
      ],
      "metadata": {
        "id": "-UF9Xv_G2J0x"
      }
    },
    {
      "cell_type": "markdown",
      "source": [
        "## **Fancy Indexing (Masking) in 2D arrays**\n",
        "\n",
        "We did this for one dimensional arrays. Let's see if those concepts translate to 2D also.\n",
        "\n",
        "\\\n",
        "Suppose we have the matrix `m1` -"
      ],
      "metadata": {
        "id": "ZC_QxbwtLsaF"
      }
    },
    {
      "cell_type": "code",
      "source": [
        "m1 = np.arange(12).reshape(3, 4)\n",
        "m1"
      ],
      "metadata": {
        "id": "FNc4qsuyMCSw",
        "colab": {
          "base_uri": "https://localhost:8080/"
        },
        "outputId": "d80c74d7-2432-4095-bd6b-c912eb35775e"
      },
      "execution_count": 30,
      "outputs": [
        {
          "output_type": "execute_result",
          "data": {
            "text/plain": [
              "array([[ 0,  1,  2,  3],\n",
              "       [ 4,  5,  6,  7],\n",
              "       [ 8,  9, 10, 11]])"
            ]
          },
          "metadata": {},
          "execution_count": 30
        }
      ]
    },
    {
      "cell_type": "markdown",
      "source": [
        "**What will be output of following?**"
      ],
      "metadata": {
        "id": "FK57DXr-MFMd"
      }
    },
    {
      "cell_type": "code",
      "source": [
        "m1 < 6"
      ],
      "metadata": {
        "id": "u_DFLot-MH6F",
        "colab": {
          "base_uri": "https://localhost:8080/"
        },
        "outputId": "c9b024d3-26fa-4e0d-ca2c-d02e5e13b407"
      },
      "execution_count": 31,
      "outputs": [
        {
          "output_type": "execute_result",
          "data": {
            "text/plain": [
              "array([[ True,  True,  True,  True],\n",
              "       [ True,  True, False, False],\n",
              "       [False, False, False, False]])"
            ]
          },
          "metadata": {},
          "execution_count": 31
        }
      ]
    },
    {
      "cell_type": "markdown",
      "metadata": {
        "id": "HuYJozTm1t1S"
      },
      "source": [
        "- A **matrix having boolean values** `True` and `False` is returned.\n",
        "- **We can use this boolean matrix to filter our array.**\n",
        "\n",
        "\\\n",
        "**Condition(s) will be passed instead of indices and slice ranges.**"
      ]
    },
    {
      "cell_type": "code",
      "execution_count": 32,
      "metadata": {
        "id": "PDUvM1fK1t1T",
        "colab": {
          "base_uri": "https://localhost:8080/"
        },
        "outputId": "839aba89-f901-449e-9e1a-bf7633f1f5c5"
      },
      "outputs": [
        {
          "output_type": "execute_result",
          "data": {
            "text/plain": [
              "array([0, 1, 2, 3, 4, 5])"
            ]
          },
          "metadata": {},
          "execution_count": 32
        }
      ],
      "source": [
        "m1[m1 < 6]"
      ]
    },
    {
      "cell_type": "markdown",
      "source": [
        "- Values corresponding to `True` are retained\n",
        "- Values corresponding to `False` are filtered out"
      ],
      "metadata": {
        "id": "xxu49k2X4EE0"
      }
    },
    {
      "cell_type": "markdown",
      "source": [
        "---"
      ],
      "metadata": {
        "id": "UIRANBWL3EEa"
      }
    },
    {
      "cell_type": "markdown",
      "source": [
        "## **Aggregate Functions**"
      ],
      "metadata": {
        "id": "r_ExzwGgN44X"
      }
    },
    {
      "cell_type": "markdown",
      "metadata": {
        "id": "36d2c4c6"
      },
      "source": [
        "Numpy provides various universal functions that cover a wide variety of operations and perform **fast element-wise array operations**."
      ]
    },
    {
      "cell_type": "markdown",
      "source": [
        "#### How would calculate the sum of elements of an array?\n",
        "\n",
        "#### `np.sum()`\n",
        "\n",
        "- It sums all the values in a numpy array."
      ],
      "metadata": {
        "id": "tENw_OzD4WdW"
      }
    },
    {
      "cell_type": "code",
      "execution_count": 33,
      "metadata": {
        "id": "cabc7e1f",
        "colab": {
          "base_uri": "https://localhost:8080/"
        },
        "outputId": "c6caa0b1-dc84-4b80-e3f6-d84d440d33d1"
      },
      "outputs": [
        {
          "output_type": "execute_result",
          "data": {
            "text/plain": [
              "array([ 1,  2,  3,  4,  5,  6,  7,  8,  9, 10])"
            ]
          },
          "metadata": {},
          "execution_count": 33
        }
      ],
      "source": [
        "a = np.arange(1, 11)\n",
        "a"
      ]
    },
    {
      "cell_type": "code",
      "execution_count": 34,
      "metadata": {
        "id": "26ff89b9",
        "colab": {
          "base_uri": "https://localhost:8080/"
        },
        "outputId": "3161f6ca-1e2a-42c3-ee7f-c2c6965f5e1a"
      },
      "outputs": [
        {
          "output_type": "execute_result",
          "data": {
            "text/plain": [
              "55"
            ]
          },
          "metadata": {},
          "execution_count": 34
        }
      ],
      "source": [
        "np.sum(a)"
      ]
    },
    {
      "cell_type": "markdown",
      "metadata": {
        "id": "80fcf497"
      },
      "source": [
        "#### What if we want to find the average value or median value of all the elements in an array?\n",
        "\n",
        "#### `np.mean()`\n",
        "\n",
        "- It gives the us mean of all values in a numpy array."
      ]
    },
    {
      "cell_type": "code",
      "execution_count": 35,
      "metadata": {
        "id": "225a1264",
        "colab": {
          "base_uri": "https://localhost:8080/"
        },
        "outputId": "bda16374-d589-4daa-88d0-2d7bc622217f"
      },
      "outputs": [
        {
          "output_type": "execute_result",
          "data": {
            "text/plain": [
              "5.5"
            ]
          },
          "metadata": {},
          "execution_count": 35
        }
      ],
      "source": [
        "np.mean(a)"
      ]
    },
    {
      "cell_type": "markdown",
      "metadata": {
        "id": "8iQNMU2JoLk4"
      },
      "source": [
        "#### Now, we want to find the minimum / maximum value in the array.\n",
        "\n",
        "#### `np.min()` / `np.max()`"
      ]
    },
    {
      "cell_type": "code",
      "execution_count": 36,
      "metadata": {
        "id": "4ZiYTSAHox4e",
        "colab": {
          "base_uri": "https://localhost:8080/"
        },
        "outputId": "b2099177-b681-4ff9-ff54-0586a036f4ea"
      },
      "outputs": [
        {
          "output_type": "execute_result",
          "data": {
            "text/plain": [
              "1"
            ]
          },
          "metadata": {},
          "execution_count": 36
        }
      ],
      "source": [
        "np.min(a)"
      ]
    },
    {
      "cell_type": "code",
      "execution_count": 37,
      "metadata": {
        "id": "rX-Cnu_qpeuC",
        "colab": {
          "base_uri": "https://localhost:8080/"
        },
        "outputId": "96897099-1350-4ef1-d39a-b6bff170b7e7"
      },
      "outputs": [
        {
          "output_type": "execute_result",
          "data": {
            "text/plain": [
              "10"
            ]
          },
          "metadata": {},
          "execution_count": 37
        }
      ],
      "source": [
        "np.max(a)"
      ]
    },
    {
      "cell_type": "markdown",
      "source": [
        "Let's apply aggregate functions on 2D array."
      ],
      "metadata": {
        "id": "R1mXgmx8KTYb"
      }
    },
    {
      "cell_type": "code",
      "execution_count": 38,
      "metadata": {
        "id": "PY4b_4SyfjeT",
        "colab": {
          "base_uri": "https://localhost:8080/"
        },
        "outputId": "8da972e1-6c71-4d7f-e451-786cf38a38d6"
      },
      "outputs": [
        {
          "output_type": "execute_result",
          "data": {
            "text/plain": [
              "array([[ 0,  1,  2,  3],\n",
              "       [ 4,  5,  6,  7],\n",
              "       [ 8,  9, 10, 11]])"
            ]
          },
          "metadata": {},
          "execution_count": 38
        }
      ],
      "source": [
        "a = np.arange(12).reshape(3, 4)\n",
        "a"
      ]
    },
    {
      "cell_type": "code",
      "execution_count": 39,
      "metadata": {
        "id": "NP4yQMQ8fjeU",
        "colab": {
          "base_uri": "https://localhost:8080/"
        },
        "outputId": "2760b6f6-fcfe-466e-8c81-2fae7ef2a699"
      },
      "outputs": [
        {
          "output_type": "execute_result",
          "data": {
            "text/plain": [
              "66"
            ]
          },
          "metadata": {},
          "execution_count": 39
        }
      ],
      "source": [
        "np.sum(a)  # sums all the values present in the array"
      ]
    },
    {
      "cell_type": "markdown",
      "source": [
        "---"
      ],
      "metadata": {
        "id": "SI20VRW647dv"
      }
    },
    {
      "cell_type": "markdown",
      "metadata": {
        "id": "1955d7d4"
      },
      "source": [
        "### What if we want to do the elements row-wise or column-wise?\n",
        "\n",
        "- By **setting `axis` parameter**"
      ]
    },
    {
      "cell_type": "markdown",
      "source": [
        "#### What will `np.sum(a, axis=0)` do?\n",
        "\n",
        "- `np.sum(a, axis=0)` adds together values in **different rows**\n",
        "- `axis = 0` $\\rightarrow$ **Changes will happen along the vertical axis**\n",
        "- Summation of values happen **in the vertical direction**.\n",
        "- Rows collapse/merge when we do `axis=0`."
      ],
      "metadata": {
        "id": "M-uD3lpw5Ku5"
      }
    },
    {
      "cell_type": "code",
      "execution_count": 40,
      "metadata": {
        "id": "a87cc8db",
        "colab": {
          "base_uri": "https://localhost:8080/"
        },
        "outputId": "70fed471-290f-476b-fc39-c860076338cb"
      },
      "outputs": [
        {
          "output_type": "execute_result",
          "data": {
            "text/plain": [
              "array([12, 15, 18, 21])"
            ]
          },
          "metadata": {},
          "execution_count": 40
        }
      ],
      "source": [
        "np.sum(a, axis=0)"
      ]
    },
    {
      "cell_type": "markdown",
      "metadata": {
        "id": "e518c042"
      },
      "source": [
        "#### What if we specify `axis=1`?\n",
        "\n",
        "- `np.sum(a, axis=1)` adds together values in **different columns**\n",
        "- `axis = 1` $\\rightarrow$ **Changes will happen along the horizontal axis**\n",
        "- Summation of values happen **in the horizontal direction**.\n",
        "- Columns collapse/merge when we do `axis=1`."
      ]
    },
    {
      "cell_type": "code",
      "execution_count": 41,
      "metadata": {
        "id": "8d7587cb",
        "colab": {
          "base_uri": "https://localhost:8080/"
        },
        "outputId": "3d0d6f0d-c479-419c-844f-dd648461d408"
      },
      "outputs": [
        {
          "output_type": "execute_result",
          "data": {
            "text/plain": [
              "array([ 6, 22, 38])"
            ]
          },
          "metadata": {},
          "execution_count": 41
        }
      ],
      "source": [
        "np.sum(a, axis=1)"
      ]
    },
    {
      "cell_type": "markdown",
      "source": [
        "---"
      ],
      "metadata": {
        "id": "x3hsSh0B5kWt"
      }
    },
    {
      "cell_type": "markdown",
      "source": [
        "## **Logical Operations**"
      ],
      "metadata": {
        "id": "1skQodlmgqT4"
      }
    },
    {
      "cell_type": "markdown",
      "metadata": {
        "id": "5ZtaYWzkgqUQ"
      },
      "source": [
        "#### What if we want to check whether **\"any\"** element of array follows a specific condition?\n",
        "\n",
        "#### `np.any()`\n",
        "\n",
        "- returns `True` if **any of the corresponding elements** in the argument arrays follow the **provided condition**.\n"
      ]
    },
    {
      "cell_type": "markdown",
      "metadata": {
        "id": "rwbF577fgqUS"
      },
      "source": [
        "Imagine you have a shopping list with items you need to buy, but you're not sure if you have enough money to buy everything.\n",
        "\n",
        "You want to check if there's at least one item on your list that you can afford.\n",
        "\n",
        "In this case, you can use `np.any`:\n"
      ]
    },
    {
      "cell_type": "code",
      "execution_count": 42,
      "metadata": {
        "id": "Ogz7mCzvgqUT",
        "colab": {
          "base_uri": "https://localhost:8080/"
        },
        "outputId": "b55b2f71-7fa8-4466-d29a-c0a571d41ef1"
      },
      "outputs": [
        {
          "output_type": "stream",
          "name": "stdout",
          "text": [
            "You can buy at least one item on your list!\n"
          ]
        }
      ],
      "source": [
        "import numpy as np\n",
        "\n",
        "# Prices of items on your shopping list\n",
        "prices = np.array([50, 45, 25, 20, 35])\n",
        "\n",
        "# Your budget\n",
        "budget = 30\n",
        "\n",
        "# Check if there's at least one item you can afford\n",
        "can_afford = np.any(prices <= budget)\n",
        "\n",
        "if can_afford:\n",
        "    print(\"You can buy at least one item on your list!\")\n",
        "else:\n",
        "    print(\"Sorry, nothing on your list fits your budget.\")"
      ]
    },
    {
      "cell_type": "markdown",
      "source": [
        "---"
      ],
      "metadata": {
        "id": "9q2qJZoJ6Uz8"
      }
    },
    {
      "cell_type": "markdown",
      "metadata": {
        "id": "KLsY7jiSgqUV"
      },
      "source": [
        "#### What if we want to check whether \"all\" the elements in our array follow a specific condition?\n",
        "\n",
        "#### `np.all()`\n",
        "\n",
        "- returns `True` if **all the elements** in the argument arrays follow the **provided condition**.\n",
        "\n"
      ]
    },
    {
      "cell_type": "markdown",
      "source": [
        "Let's consider a scenario where you have a list of chores, and you want to make sure all the chores are done before you can play video games.\n",
        "\n",
        "You can use `np.all` to check if all the chores are completed."
      ],
      "metadata": {
        "id": "T2FT_MJH7FNh"
      }
    },
    {
      "cell_type": "code",
      "source": [
        "import numpy as np\n",
        "\n",
        "# Chores status: 1 for done, 0 for not done\n",
        "chores = np.array([1, 1, 1, 1, 0])\n",
        "\n",
        "# Check if all chores are done\n",
        "all_chores_done = np.all(chores == 1)\n",
        "\n",
        "if all_chores_done:\n",
        "    print(\"Great job! You've completed all your chores. Time to play!\")\n",
        "else:\n",
        "    print(\"Finish all your chores before you can play.\")\n"
      ],
      "metadata": {
        "id": "f8mpHfDMAp1F",
        "colab": {
          "base_uri": "https://localhost:8080/"
        },
        "outputId": "b90be2ab-5fca-4ade-f1d6-d8059cdbc7ce"
      },
      "execution_count": 43,
      "outputs": [
        {
          "output_type": "stream",
          "name": "stdout",
          "text": [
            "Finish all your chores before you can play.\n"
          ]
        }
      ]
    },
    {
      "cell_type": "markdown",
      "metadata": {
        "id": "WNB_mE0LgqUX"
      },
      "source": [
        "**Multiple conditions for `.all()` function -**"
      ]
    },
    {
      "cell_type": "code",
      "execution_count": 44,
      "metadata": {
        "id": "sbrgHu4SgqUY",
        "colab": {
          "base_uri": "https://localhost:8080/"
        },
        "outputId": "40a4d1ae-6735-4a5d-b77a-eb7ad199c798"
      },
      "outputs": [
        {
          "output_type": "execute_result",
          "data": {
            "text/plain": [
              "True"
            ]
          },
          "metadata": {},
          "execution_count": 44
        }
      ],
      "source": [
        "a = np.array([1, 2, 3, 2])\n",
        "b = np.array([2, 2, 3, 2])\n",
        "c = np.array([6, 4, 4, 5])\n",
        "\n",
        "((a <= b) & (b <= c)).all()"
      ]
    },
    {
      "cell_type": "markdown",
      "source": [
        "---"
      ],
      "metadata": {
        "id": "f5wav9A67sB8"
      }
    },
    {
      "cell_type": "markdown",
      "source": [
        "#### What if we want to update an array based on condition?\n",
        "\n",
        "Suppose you are given an array of integers and you want to update it based on following condition :\n",
        "- if element is > 0, change it to +1\n",
        "- if element < 0, change it to -1.\n",
        "\n",
        "**How will you do it?**\n"
      ],
      "metadata": {
        "id": "sfhyqo4rgqUZ"
      }
    },
    {
      "cell_type": "code",
      "source": [
        "arr = np.array([-3,4,27,34,-2, 0, -45,-11,4, 0 ])\n",
        "arr"
      ],
      "metadata": {
        "id": "brS52BQxgqUa",
        "colab": {
          "base_uri": "https://localhost:8080/"
        },
        "outputId": "c0c1813c-8970-4051-b684-71829e6b7026"
      },
      "execution_count": 45,
      "outputs": [
        {
          "output_type": "execute_result",
          "data": {
            "text/plain": [
              "array([ -3,   4,  27,  34,  -2,   0, -45, -11,   4,   0])"
            ]
          },
          "metadata": {},
          "execution_count": 45
        }
      ]
    },
    {
      "cell_type": "markdown",
      "source": [
        "You can use masking to update the array."
      ],
      "metadata": {
        "id": "WjF0n1sK71Sb"
      }
    },
    {
      "cell_type": "code",
      "source": [
        "arr[arr > 0]  = 1\n",
        "arr [arr < 0] = -1"
      ],
      "metadata": {
        "id": "jQJGtjqwgqUa"
      },
      "execution_count": 46,
      "outputs": []
    },
    {
      "cell_type": "code",
      "source": [
        "arr"
      ],
      "metadata": {
        "id": "YES_pd2mgqUb",
        "colab": {
          "base_uri": "https://localhost:8080/"
        },
        "outputId": "2c6d27b1-8a5e-487b-93c6-96bb47ea598d"
      },
      "execution_count": 47,
      "outputs": [
        {
          "output_type": "execute_result",
          "data": {
            "text/plain": [
              "array([-1,  1,  1,  1, -1,  0, -1, -1,  1,  0])"
            ]
          },
          "metadata": {},
          "execution_count": 47
        }
      ]
    },
    {
      "cell_type": "markdown",
      "source": [
        "There's also a numpy function which can help us with it.\n",
        "\n",
        "#### `np.where()`\n",
        "\n",
        "- Syntax: `np.where(condition, [x, y])`\n",
        "- returns an `ndarray` whose elements are chosen from `x` or `y` depending on condition.\n"
      ],
      "metadata": {
        "id": "6B_AGtmdrElA"
      }
    },
    {
      "cell_type": "markdown",
      "source": [
        "Suppose you have a list of product prices, and you want to apply a **10%** discount to all products with prices above **$50**.\n",
        "\n",
        "You can use `np.where` to adjust the prices."
      ],
      "metadata": {
        "id": "0YamHaojBOe4"
      }
    },
    {
      "cell_type": "code",
      "source": [
        "import numpy as np\n",
        "\n",
        "# Product prices\n",
        "prices = np.array([45, 55, 60, 75, 40, 90])\n",
        "\n",
        "# Apply a 10% discount to prices above $50\n",
        "discounted_prices = np.where(prices > 50, prices * 0.9, prices)\n",
        "\n",
        "print(\"Original prices:\", prices)\n",
        "print(\"Discounted prices:\", discounted_prices)"
      ],
      "metadata": {
        "colab": {
          "base_uri": "https://localhost:8080/"
        },
        "id": "vJSPgKnvBWgK",
        "outputId": "e94cb4f7-9d82-46e6-8680-2a9c844daf2d"
      },
      "execution_count": 48,
      "outputs": [
        {
          "output_type": "stream",
          "name": "stdout",
          "text": [
            "Original prices: [45 55 60 75 40 90]\n",
            "Discounted prices: [45.  49.5 54.  67.5 40.  81. ]\n"
          ]
        }
      ]
    },
    {
      "cell_type": "markdown",
      "source": [
        "**Notice that it didn't change the original array.**"
      ],
      "metadata": {
        "id": "AwoTcM7XrwOo"
      }
    },
    {
      "cell_type": "markdown",
      "source": [
        "---"
      ],
      "metadata": {
        "id": "YIvKVpfc8bk-"
      }
    },
    {
      "cell_type": "markdown",
      "source": [
        "\n",
        "## **Use Case: Fitness data analysis**\n"
      ],
      "metadata": {
        "id": "IaLQaPpPcRwy"
      }
    },
    {
      "cell_type": "markdown",
      "metadata": {
        "id": "VSVU-5ScMbDp"
      },
      "source": [
        "Imagine you are a Data Scientist at Fitbit\n",
        "\n",
        "You've been given a user data to analyse and find some insights which can be shown on the smart watch.\n",
        "\n",
        "\\\n",
        "But why would we want to analyse the user data for desiging the watch?\n",
        "\n",
        "These insights from the user data can help business make customer oriented decision for the product design.\n",
        "\n",
        "\\\n",
        "Let's first look at the data we have gathered.\n",
        "\n",
        "<img src='https://drive.google.com/uc?id=1Uxwd4H-tfM64giRS1VExMpQXKtBBtuP0'>\n"
      ]
    },
    {
      "cell_type": "markdown",
      "metadata": {
        "id": "d4ad3b77"
      },
      "source": [
        "Notice that our data is structured in a tabular format.\n",
        "- Each column is known as a feature.\n",
        "- Each row is known as a record."
      ]
    },
    {
      "cell_type": "markdown",
      "source": [
        "### **Basic EDA**\n",
        "\n",
        "Performing **Exploratory Data Analysis (EDA)** is like being a detective for numbers and information.\n",
        "\n",
        "Imagine you have a big box of colorful candies. EDA is like looking at all the candies, counting how many of each color there are, and maybe even making a pretty picture to show which colors you have the most of. This way, you can learn a lot about your candies without eating them all at once!\n",
        "\n",
        "<img src=\"https://drive.google.com/uc?id=1vtCOcuucK68MfYw4rneNWmDHX99kEJc6\">\n",
        "\n",
        "So, EDA is about looking at your things, which is data in this case, to understand them better and find out interesting stuff about them.\n",
        "\n",
        "Formally defining, Exploratory Data Analysis (EDA) is a process of **examining**, **summarizing**, and **visualizing** data sets to understand their main characteristics, uncover patterns that helps analysts and data scientists gain insights into the data, make informed decisions, and guide further analysis or modeling.\n"
      ],
      "metadata": {
        "id": "sCPUYJY20ZMr"
      }
    },
    {
      "cell_type": "markdown",
      "source": [
        "First, we will import numpy."
      ],
      "metadata": {
        "id": "N06-qHKk0mzf"
      }
    },
    {
      "cell_type": "code",
      "source": [
        "import numpy as np"
      ],
      "metadata": {
        "id": "EEbra6CD0kvc"
      },
      "execution_count": 49,
      "outputs": []
    },
    {
      "cell_type": "markdown",
      "source": [
        "Let's load the data that we saw earlier.\n",
        "\n",
        "- For this, we will use the `.loadtxt()` function."
      ],
      "metadata": {
        "id": "YpOnNNO0kgCt"
      }
    },
    {
      "cell_type": "code",
      "source": [
        "!gdown https://drive.google.com/uc?id=1vk1Pu0djiYcrdc85yUXZ_Rqq2oZNcohd"
      ],
      "metadata": {
        "id": "QVn9tdYmixga",
        "colab": {
          "base_uri": "https://localhost:8080/"
        },
        "outputId": "195bd699-e3a0-467f-cb1d-396ba9e42b0e"
      },
      "execution_count": 50,
      "outputs": [
        {
          "output_type": "stream",
          "name": "stdout",
          "text": [
            "Downloading...\n",
            "From: https://drive.google.com/uc?id=1vk1Pu0djiYcrdc85yUXZ_Rqq2oZNcohd\n",
            "To: /content/fit.txt\n",
            "\r  0% 0.00/3.43k [00:00<?, ?B/s]\r100% 3.43k/3.43k [00:00<00:00, 12.5MB/s]\n"
          ]
        }
      ]
    },
    {
      "cell_type": "code",
      "source": [
        "data = np.loadtxt('/content/fit.txt', dtype='str')\n",
        "data"
      ],
      "metadata": {
        "id": "uJv62BFUi0HN",
        "colab": {
          "base_uri": "https://localhost:8080/"
        },
        "outputId": "9a0965b9-6248-4d54-dc68-335e9c809ac8"
      },
      "execution_count": 51,
      "outputs": [
        {
          "output_type": "execute_result",
          "data": {
            "text/plain": [
              "array([['06-10-2017', '5464', 'Neutral', '181', '5', 'Inactive'],\n",
              "       ['07-10-2017', '6041', 'Sad', '197', '8', 'Inactive'],\n",
              "       ['08-10-2017', '25', 'Sad', '0', '5', 'Inactive'],\n",
              "       ['09-10-2017', '5461', 'Sad', '174', '4', 'Inactive'],\n",
              "       ['10-10-2017', '6915', 'Neutral', '223', '5', 'Active'],\n",
              "       ['11-10-2017', '4545', 'Sad', '149', '6', 'Inactive'],\n",
              "       ['12-10-2017', '4340', 'Sad', '140', '6', 'Inactive'],\n",
              "       ['13-10-2017', '1230', 'Sad', '38', '7', 'Inactive'],\n",
              "       ['14-10-2017', '61', 'Sad', '1', '5', 'Inactive'],\n",
              "       ['15-10-2017', '1258', 'Sad', '40', '6', 'Inactive'],\n",
              "       ['16-10-2017', '3148', 'Sad', '101', '8', 'Inactive'],\n",
              "       ['17-10-2017', '4687', 'Sad', '152', '5', 'Inactive'],\n",
              "       ['18-10-2017', '4732', 'Happy', '150', '6', 'Active'],\n",
              "       ['19-10-2017', '3519', 'Sad', '113', '7', 'Inactive'],\n",
              "       ['20-10-2017', '1580', 'Sad', '49', '5', 'Inactive'],\n",
              "       ['21-10-2017', '2822', 'Sad', '86', '6', 'Inactive'],\n",
              "       ['22-10-2017', '181', 'Sad', '6', '8', 'Inactive'],\n",
              "       ['23-10-2017', '3158', 'Neutral', '99', '5', 'Inactive'],\n",
              "       ['24-10-2017', '4383', 'Neutral', '143', '4', 'Inactive'],\n",
              "       ['25-10-2017', '3881', 'Neutral', '125', '5', 'Inactive'],\n",
              "       ['26-10-2017', '4037', 'Neutral', '129', '6', 'Inactive'],\n",
              "       ['27-10-2017', '202', 'Neutral', '6', '8', 'Inactive'],\n",
              "       ['28-10-2017', '292', 'Neutral', '9', '5', 'Inactive'],\n",
              "       ['29-10-2017', '330', 'Happy', '10', '6', 'Inactive'],\n",
              "       ['30-10-2017', '2209', 'Neutral', '72', '5', 'Inactive'],\n",
              "       ['31-10-2017', '4550', 'Happy', '150', '8', 'Active'],\n",
              "       ['01-11-2017', '4435', 'Happy', '141', '5', 'Inactive'],\n",
              "       ['02-11-2017', '4779', 'Happy', '156', '4', 'Inactive'],\n",
              "       ['03-11-2017', '1831', 'Happy', '57', '5', 'Inactive'],\n",
              "       ['04-11-2017', '2255', 'Happy', '72', '4', 'Inactive'],\n",
              "       ['05-11-2017', '539', 'Happy', '17', '5', 'Active'],\n",
              "       ['06-11-2017', '5464', 'Happy', '181', '4', 'Inactive'],\n",
              "       ['07-11-2017', '6041', 'Neutral', '197', '3', 'Inactive'],\n",
              "       ['08-11-2017', '4068', 'Happy', '131', '2', 'Inactive'],\n",
              "       ['09-11-2017', '4683', 'Happy', '154', '9', 'Inactive'],\n",
              "       ['10-11-2017', '4033', 'Happy', '137', '5', 'Inactive'],\n",
              "       ['11-11-2017', '6314', 'Happy', '193', '6', 'Active'],\n",
              "       ['12-11-2017', '614', 'Happy', '19', '4', 'Active'],\n",
              "       ['13-11-2017', '3149', 'Happy', '101', '5', 'Active'],\n",
              "       ['14-11-2017', '4005', 'Happy', '139', '8', 'Active'],\n",
              "       ['15-11-2017', '4880', 'Happy', '164', '4', 'Active'],\n",
              "       ['16-11-2017', '4136', 'Happy', '137', '5', 'Active'],\n",
              "       ['17-11-2017', '705', 'Happy', '22', '6', 'Active'],\n",
              "       ['18-11-2017', '570', 'Neutral', '17', '5', 'Active'],\n",
              "       ['19-11-2017', '269', 'Happy', '9', '6', 'Active'],\n",
              "       ['20-11-2017', '4275', 'Happy', '145', '5', 'Inactive'],\n",
              "       ['21-11-2017', '5999', 'Happy', '192', '6', 'Inactive'],\n",
              "       ['22-11-2017', '4421', 'Happy', '146', '5', 'Inactive'],\n",
              "       ['23-11-2017', '6930', 'Happy', '234', '6', 'Inactive'],\n",
              "       ['24-11-2017', '5195', 'Happy', '167', '5', 'Inactive'],\n",
              "       ['25-11-2017', '546', 'Happy', '16', '6', 'Inactive'],\n",
              "       ['26-11-2017', '493', 'Happy', '17', '7', 'Active'],\n",
              "       ['27-11-2017', '995', 'Happy', '32', '6', 'Active'],\n",
              "       ['28-11-2017', '1163', 'Neutral', '35', '7', 'Active'],\n",
              "       ['29-11-2017', '6676', 'Sad', '220', '6', 'Active'],\n",
              "       ['30-11-2017', '3608', 'Happy', '116', '5', 'Active'],\n",
              "       ['01-12-2017', '774', 'Happy', '23', '6', 'Active'],\n",
              "       ['02-12-2017', '1421', 'Happy', '44', '7', 'Active'],\n",
              "       ['03-12-2017', '4064', 'Happy', '131', '8', 'Active'],\n",
              "       ['04-12-2017', '2725', 'Happy', '86', '8', 'Active'],\n",
              "       ['05-12-2017', '5934', 'Happy', '194', '7', 'Active'],\n",
              "       ['06-12-2017', '1867', 'Happy', '60', '8', 'Active'],\n",
              "       ['07-12-2017', '3721', 'Sad', '121', '5', 'Active'],\n",
              "       ['08-12-2017', '2374', 'Neutral', '76', '4', 'Inactive'],\n",
              "       ['09-12-2017', '2909', 'Neutral', '93', '3', 'Active'],\n",
              "       ['10-12-2017', '1648', 'Sad', '53', '3', 'Active'],\n",
              "       ['11-12-2017', '799', 'Sad', '25', '4', 'Inactive'],\n",
              "       ['12-12-2017', '7102', 'Neutral', '227', '5', 'Active'],\n",
              "       ['13-12-2017', '3941', 'Neutral', '125', '5', 'Active'],\n",
              "       ['14-12-2017', '7422', 'Happy', '243', '5', 'Active'],\n",
              "       ['15-12-2017', '437', 'Neutral', '14', '3', 'Active'],\n",
              "       ['16-12-2017', '1231', 'Neutral', '39', '4', 'Active'],\n",
              "       ['17-12-2017', '1696', 'Sad', '55', '4', 'Inactive'],\n",
              "       ['18-12-2017', '4921', 'Neutral', '158', '5', 'Active'],\n",
              "       ['19-12-2017', '221', 'Sad', '7', '5', 'Active'],\n",
              "       ['20-12-2017', '6500', 'Neutral', '213', '5', 'Active'],\n",
              "       ['21-12-2017', '3575', 'Neutral', '116', '5', 'Active'],\n",
              "       ['22-12-2017', '4061', 'Sad', '129', '5', 'Inactive'],\n",
              "       ['23-12-2017', '651', 'Sad', '21', '5', 'Inactive'],\n",
              "       ['24-12-2017', '753', 'Sad', '28', '4', 'Inactive'],\n",
              "       ['25-12-2017', '518', 'Sad', '16', '3', 'Inactive'],\n",
              "       ['26-12-2017', '5537', 'Happy', '180', '4', 'Active'],\n",
              "       ['27-12-2017', '4108', 'Neutral', '138', '5', 'Active'],\n",
              "       ['28-12-2017', '5376', 'Happy', '176', '5', 'Active'],\n",
              "       ['29-12-2017', '3066', 'Neutral', '99', '4', 'Active'],\n",
              "       ['30-12-2017', '177', 'Sad', '5', '5', 'Inactive'],\n",
              "       ['31-12-2017', '36', 'Sad', '1', '3', 'Inactive'],\n",
              "       ['01-01-2018', '299', 'Sad', '10', '3', 'Inactive'],\n",
              "       ['02-01-2018', '1447', 'Neutral', '47', '3', 'Inactive'],\n",
              "       ['03-01-2018', '2599', 'Neutral', '84', '2', 'Inactive'],\n",
              "       ['04-01-2018', '702', 'Sad', '23', '3', 'Inactive'],\n",
              "       ['05-01-2018', '133', 'Sad', '4', '2', 'Inactive'],\n",
              "       ['06-01-2018', '153', 'Happy', '0', '8', 'Inactive'],\n",
              "       ['07-01-2018', '500', 'Neutral', '0', '5', 'Active'],\n",
              "       ['08-01-2018', '2127', 'Neutral', '0', '5', 'Inactive'],\n",
              "       ['09-01-2018', '2203', 'Happy', '0', '5', 'Active']], dtype='<U10')"
            ]
          },
          "metadata": {},
          "execution_count": 51
        }
      ]
    },
    {
      "cell_type": "markdown",
      "source": [
        "We provide the file name along with the dtype of data that we want to load in.\n"
      ],
      "metadata": {
        "id": "QbfF6l3bksKk"
      }
    },
    {
      "cell_type": "markdown",
      "source": [
        "What's the shape of this data?"
      ],
      "metadata": {
        "id": "8U6EEqXIk10d"
      }
    },
    {
      "cell_type": "code",
      "source": [
        "data.shape"
      ],
      "metadata": {
        "id": "M3u0HyoYk_hn",
        "colab": {
          "base_uri": "https://localhost:8080/"
        },
        "outputId": "043515e7-0133-42c4-d4b7-4403fda7d72b"
      },
      "execution_count": 52,
      "outputs": [
        {
          "output_type": "execute_result",
          "data": {
            "text/plain": [
              "(96, 6)"
            ]
          },
          "metadata": {},
          "execution_count": 52
        }
      ]
    },
    {
      "cell_type": "markdown",
      "source": [
        "What's the dimensionality?"
      ],
      "metadata": {
        "id": "y-LFqsbD1W65"
      }
    },
    {
      "cell_type": "code",
      "source": [
        "data.ndim"
      ],
      "metadata": {
        "id": "s-5CUiYT1Zjo",
        "colab": {
          "base_uri": "https://localhost:8080/"
        },
        "outputId": "73f56036-8e41-4944-ba5a-fc2a6b0d70b9"
      },
      "execution_count": 53,
      "outputs": [
        {
          "output_type": "execute_result",
          "data": {
            "text/plain": [
              "2"
            ]
          },
          "metadata": {},
          "execution_count": 53
        }
      ]
    },
    {
      "cell_type": "markdown",
      "source": [
        "We can see that this is a 2-dimensional list.\n",
        "\n",
        "There are 96 records and each record has 6 features.\n",
        "\n",
        "These features are:\n",
        "- Date\n",
        "- Step Count\n",
        "- Mood\n",
        "- Calories Burned\n",
        "- Hours of Sleep\n",
        "- Activity Status"
      ],
      "metadata": {
        "id": "dCybiORt1suR"
      }
    },
    {
      "cell_type": "markdown",
      "source": [
        "**Notice that above array is homogenous containing all the data as strings.**\n",
        "\n",
        "In order to work with strings, categorical data and numerical data, we'll have to save every feature seperately.\n",
        "\n",
        "\\\n",
        "**How will we extract features in seperate variables?**\n",
        "\n",
        "For that, we first need some idea on how data is saved.\n",
        "\n",
        "Let's see whats the first element of the `data`.\n"
      ],
      "metadata": {
        "id": "QuTXn38PlJdG"
      }
    },
    {
      "cell_type": "code",
      "source": [
        "data[0]"
      ],
      "metadata": {
        "id": "d5M-DM8UlB8e",
        "colab": {
          "base_uri": "https://localhost:8080/"
        },
        "outputId": "0e7135d8-c73b-46ac-ec3e-e1bf9992ba97"
      },
      "execution_count": 54,
      "outputs": [
        {
          "output_type": "execute_result",
          "data": {
            "text/plain": [
              "array(['06-10-2017', '5464', 'Neutral', '181', '5', 'Inactive'],\n",
              "      dtype='<U10')"
            ]
          },
          "metadata": {},
          "execution_count": 54
        }
      ]
    },
    {
      "cell_type": "markdown",
      "source": [
        "Hmm.. this extracts a row, not a column.\n",
        "\n",
        "Similarly, we can extract other specific rows.\n",
        "\n",
        "\n"
      ],
      "metadata": {
        "id": "05qjRBaS2Hup"
      }
    },
    {
      "cell_type": "code",
      "source": [
        "data[1]"
      ],
      "metadata": {
        "id": "U7QH0ipM2N_k",
        "colab": {
          "base_uri": "https://localhost:8080/"
        },
        "outputId": "914c5e1b-0bd0-4380-ae52-68af7134289a"
      },
      "execution_count": 55,
      "outputs": [
        {
          "output_type": "execute_result",
          "data": {
            "text/plain": [
              "array(['07-10-2017', '6041', 'Sad', '197', '8', 'Inactive'], dtype='<U10')"
            ]
          },
          "metadata": {},
          "execution_count": 55
        }
      ]
    },
    {
      "cell_type": "markdown",
      "source": [
        "We can also use slicing."
      ],
      "metadata": {
        "id": "8KX_4P2i2Q3d"
      }
    },
    {
      "cell_type": "code",
      "source": [
        "data[:5]"
      ],
      "metadata": {
        "id": "PXuAcuWSkmnv",
        "colab": {
          "base_uri": "https://localhost:8080/"
        },
        "outputId": "a2c0fbdc-3288-4465-aeb3-8a30c096afa9"
      },
      "execution_count": 56,
      "outputs": [
        {
          "output_type": "execute_result",
          "data": {
            "text/plain": [
              "array([['06-10-2017', '5464', 'Neutral', '181', '5', 'Inactive'],\n",
              "       ['07-10-2017', '6041', 'Sad', '197', '8', 'Inactive'],\n",
              "       ['08-10-2017', '25', 'Sad', '0', '5', 'Inactive'],\n",
              "       ['09-10-2017', '5461', 'Sad', '174', '4', 'Inactive'],\n",
              "       ['10-10-2017', '6915', 'Neutral', '223', '5', 'Active']],\n",
              "      dtype='<U10')"
            ]
          },
          "metadata": {},
          "execution_count": 56
        }
      ]
    },
    {
      "cell_type": "markdown",
      "source": [
        "### **FitBit Solution**"
      ],
      "metadata": {
        "id": "Za1PR_SAcCVY"
      }
    },
    {
      "cell_type": "markdown",
      "source": [
        "Now, we want to place all the **dates** into a single entity.\n",
        "\n",
        "**How to do that?**\n",
        "\n",
        "- One way is to just go ahead and fetch the column number 0 from all rows.\n",
        "- Another way is to, take a transpose of `data`.\n",
        "\n",
        "Let's see them both -"
      ],
      "metadata": {
        "id": "BemBMbxaHf_m"
      }
    },
    {
      "cell_type": "markdown",
      "source": [
        "> **Approach 1**"
      ],
      "metadata": {
        "id": "QOWbNMDRJ3Wc"
      }
    },
    {
      "cell_type": "code",
      "source": [
        "data[:, 0]"
      ],
      "metadata": {
        "id": "FGN2s7ZkJ69j",
        "colab": {
          "base_uri": "https://localhost:8080/"
        },
        "outputId": "0fef9fa8-2081-4ff3-acb7-d47591b6e300"
      },
      "execution_count": 57,
      "outputs": [
        {
          "output_type": "execute_result",
          "data": {
            "text/plain": [
              "array(['06-10-2017', '07-10-2017', '08-10-2017', '09-10-2017',\n",
              "       '10-10-2017', '11-10-2017', '12-10-2017', '13-10-2017',\n",
              "       '14-10-2017', '15-10-2017', '16-10-2017', '17-10-2017',\n",
              "       '18-10-2017', '19-10-2017', '20-10-2017', '21-10-2017',\n",
              "       '22-10-2017', '23-10-2017', '24-10-2017', '25-10-2017',\n",
              "       '26-10-2017', '27-10-2017', '28-10-2017', '29-10-2017',\n",
              "       '30-10-2017', '31-10-2017', '01-11-2017', '02-11-2017',\n",
              "       '03-11-2017', '04-11-2017', '05-11-2017', '06-11-2017',\n",
              "       '07-11-2017', '08-11-2017', '09-11-2017', '10-11-2017',\n",
              "       '11-11-2017', '12-11-2017', '13-11-2017', '14-11-2017',\n",
              "       '15-11-2017', '16-11-2017', '17-11-2017', '18-11-2017',\n",
              "       '19-11-2017', '20-11-2017', '21-11-2017', '22-11-2017',\n",
              "       '23-11-2017', '24-11-2017', '25-11-2017', '26-11-2017',\n",
              "       '27-11-2017', '28-11-2017', '29-11-2017', '30-11-2017',\n",
              "       '01-12-2017', '02-12-2017', '03-12-2017', '04-12-2017',\n",
              "       '05-12-2017', '06-12-2017', '07-12-2017', '08-12-2017',\n",
              "       '09-12-2017', '10-12-2017', '11-12-2017', '12-12-2017',\n",
              "       '13-12-2017', '14-12-2017', '15-12-2017', '16-12-2017',\n",
              "       '17-12-2017', '18-12-2017', '19-12-2017', '20-12-2017',\n",
              "       '21-12-2017', '22-12-2017', '23-12-2017', '24-12-2017',\n",
              "       '25-12-2017', '26-12-2017', '27-12-2017', '28-12-2017',\n",
              "       '29-12-2017', '30-12-2017', '31-12-2017', '01-01-2018',\n",
              "       '02-01-2018', '03-01-2018', '04-01-2018', '05-01-2018',\n",
              "       '06-01-2018', '07-01-2018', '08-01-2018', '09-01-2018'],\n",
              "      dtype='<U10')"
            ]
          },
          "metadata": {},
          "execution_count": 57
        }
      ]
    },
    {
      "cell_type": "markdown",
      "source": [
        "This gives all the dates."
      ],
      "metadata": {
        "id": "NADFn-OoJ_o3"
      }
    },
    {
      "cell_type": "markdown",
      "source": [
        "> **Approach 2**"
      ],
      "metadata": {
        "id": "vQR5LG5__r8k"
      }
    },
    {
      "cell_type": "code",
      "source": [
        "data_t = data.T"
      ],
      "metadata": {
        "id": "5moTEtNGH-Sz"
      },
      "execution_count": 58,
      "outputs": []
    },
    {
      "cell_type": "markdown",
      "source": [
        "Don't you think all the dates will now be present in the first (i.e. index 0th element) of `data_t`?"
      ],
      "metadata": {
        "id": "IBbyn4F2IBja"
      }
    },
    {
      "cell_type": "code",
      "source": [
        "data_t[0]"
      ],
      "metadata": {
        "id": "iFiHcAvMAIUo",
        "colab": {
          "base_uri": "https://localhost:8080/"
        },
        "outputId": "91c5fb5c-6418-409c-999c-34da1a595e30"
      },
      "execution_count": 59,
      "outputs": [
        {
          "output_type": "execute_result",
          "data": {
            "text/plain": [
              "array(['06-10-2017', '07-10-2017', '08-10-2017', '09-10-2017',\n",
              "       '10-10-2017', '11-10-2017', '12-10-2017', '13-10-2017',\n",
              "       '14-10-2017', '15-10-2017', '16-10-2017', '17-10-2017',\n",
              "       '18-10-2017', '19-10-2017', '20-10-2017', '21-10-2017',\n",
              "       '22-10-2017', '23-10-2017', '24-10-2017', '25-10-2017',\n",
              "       '26-10-2017', '27-10-2017', '28-10-2017', '29-10-2017',\n",
              "       '30-10-2017', '31-10-2017', '01-11-2017', '02-11-2017',\n",
              "       '03-11-2017', '04-11-2017', '05-11-2017', '06-11-2017',\n",
              "       '07-11-2017', '08-11-2017', '09-11-2017', '10-11-2017',\n",
              "       '11-11-2017', '12-11-2017', '13-11-2017', '14-11-2017',\n",
              "       '15-11-2017', '16-11-2017', '17-11-2017', '18-11-2017',\n",
              "       '19-11-2017', '20-11-2017', '21-11-2017', '22-11-2017',\n",
              "       '23-11-2017', '24-11-2017', '25-11-2017', '26-11-2017',\n",
              "       '27-11-2017', '28-11-2017', '29-11-2017', '30-11-2017',\n",
              "       '01-12-2017', '02-12-2017', '03-12-2017', '04-12-2017',\n",
              "       '05-12-2017', '06-12-2017', '07-12-2017', '08-12-2017',\n",
              "       '09-12-2017', '10-12-2017', '11-12-2017', '12-12-2017',\n",
              "       '13-12-2017', '14-12-2017', '15-12-2017', '16-12-2017',\n",
              "       '17-12-2017', '18-12-2017', '19-12-2017', '20-12-2017',\n",
              "       '21-12-2017', '22-12-2017', '23-12-2017', '24-12-2017',\n",
              "       '25-12-2017', '26-12-2017', '27-12-2017', '28-12-2017',\n",
              "       '29-12-2017', '30-12-2017', '31-12-2017', '01-01-2018',\n",
              "       '02-01-2018', '03-01-2018', '04-01-2018', '05-01-2018',\n",
              "       '06-01-2018', '07-01-2018', '08-01-2018', '09-01-2018'],\n",
              "      dtype='<U10')"
            ]
          },
          "metadata": {},
          "execution_count": 59
        }
      ]
    },
    {
      "cell_type": "markdown",
      "source": [
        "**Also, what will be the shape of `data_t`?**"
      ],
      "metadata": {
        "id": "zraFoysWIZoA"
      }
    },
    {
      "cell_type": "code",
      "source": [
        "data_t.shape"
      ],
      "metadata": {
        "id": "kId8nGFXIeR1",
        "colab": {
          "base_uri": "https://localhost:8080/"
        },
        "outputId": "152325b2-3efd-42de-d815-229d832f56c7"
      },
      "execution_count": 60,
      "outputs": [
        {
          "output_type": "execute_result",
          "data": {
            "text/plain": [
              "(6, 96)"
            ]
          },
          "metadata": {},
          "execution_count": 60
        }
      ]
    },
    {
      "cell_type": "markdown",
      "metadata": {
        "id": "7c0b8ebd"
      },
      "source": [
        "#### **Let's extract all the columns and save them in seperate variables.**"
      ]
    },
    {
      "cell_type": "code",
      "execution_count": 61,
      "metadata": {
        "id": "Wk5qAYCJZGhG"
      },
      "outputs": [],
      "source": [
        "date, step_count, mood, calories_burned, hours_of_sleep, activity_status = data.T"
      ]
    },
    {
      "cell_type": "code",
      "execution_count": 62,
      "metadata": {
        "id": "0w6WABJ0ZLnk",
        "colab": {
          "base_uri": "https://localhost:8080/"
        },
        "outputId": "8d3697f9-8a92-4717-c756-0be87382759c"
      },
      "outputs": [
        {
          "output_type": "execute_result",
          "data": {
            "text/plain": [
              "array(['5464', '6041', '25', '5461', '6915', '4545', '4340', '1230', '61',\n",
              "       '1258', '3148', '4687', '4732', '3519', '1580', '2822', '181',\n",
              "       '3158', '4383', '3881', '4037', '202', '292', '330', '2209',\n",
              "       '4550', '4435', '4779', '1831', '2255', '539', '5464', '6041',\n",
              "       '4068', '4683', '4033', '6314', '614', '3149', '4005', '4880',\n",
              "       '4136', '705', '570', '269', '4275', '5999', '4421', '6930',\n",
              "       '5195', '546', '493', '995', '1163', '6676', '3608', '774', '1421',\n",
              "       '4064', '2725', '5934', '1867', '3721', '2374', '2909', '1648',\n",
              "       '799', '7102', '3941', '7422', '437', '1231', '1696', '4921',\n",
              "       '221', '6500', '3575', '4061', '651', '753', '518', '5537', '4108',\n",
              "       '5376', '3066', '177', '36', '299', '1447', '2599', '702', '133',\n",
              "       '153', '500', '2127', '2203'], dtype='<U10')"
            ]
          },
          "metadata": {},
          "execution_count": 62
        }
      ],
      "source": [
        "step_count"
      ]
    },
    {
      "cell_type": "code",
      "execution_count": 63,
      "metadata": {
        "id": "vRdFpj1SZXH2",
        "colab": {
          "base_uri": "https://localhost:8080/"
        },
        "outputId": "13c5f2cf-b2f9-4156-98e2-3867a3c40029"
      },
      "outputs": [
        {
          "output_type": "execute_result",
          "data": {
            "text/plain": [
              "dtype('<U10')"
            ]
          },
          "metadata": {},
          "execution_count": 63
        }
      ],
      "source": [
        "step_count.dtype"
      ]
    },
    {
      "cell_type": "markdown",
      "metadata": {
        "id": "Rx8mBaFhZRRR"
      },
      "source": [
        "Notice the data type of `step_count` and other variables.\n",
        "\n",
        "It's a string type where **U** means Unicode String and 10 means 10 bytes.\n",
        "\n",
        "**Why? Because Numpy type-casted all the data to strings.**"
      ]
    },
    {
      "cell_type": "markdown",
      "metadata": {
        "id": "S88ioILjYqfl"
      },
      "source": [
        "#### **Let's convert the data types of these variables.**"
      ]
    },
    {
      "cell_type": "markdown",
      "metadata": {
        "id": "3VHi8OGJaOJj"
      },
      "source": [
        "**Step Count**"
      ]
    },
    {
      "cell_type": "code",
      "execution_count": 64,
      "metadata": {
        "id": "H46f-TVZZ8mB",
        "colab": {
          "base_uri": "https://localhost:8080/"
        },
        "outputId": "f60cf2e6-3872-48a3-c188-9f079d20441a"
      },
      "outputs": [
        {
          "output_type": "execute_result",
          "data": {
            "text/plain": [
              "dtype('int64')"
            ]
          },
          "metadata": {},
          "execution_count": 64
        }
      ],
      "source": [
        "step_count = np.array(step_count, dtype='int')\n",
        "step_count.dtype"
      ]
    },
    {
      "cell_type": "code",
      "execution_count": 65,
      "metadata": {
        "id": "SKlM7Cf5aAPo",
        "colab": {
          "base_uri": "https://localhost:8080/"
        },
        "outputId": "a13898fa-9085-4fe0-c558-e27f243af0bd"
      },
      "outputs": [
        {
          "output_type": "execute_result",
          "data": {
            "text/plain": [
              "array([5464, 6041,   25, 5461, 6915, 4545, 4340, 1230,   61, 1258, 3148,\n",
              "       4687, 4732, 3519, 1580, 2822,  181, 3158, 4383, 3881, 4037,  202,\n",
              "        292,  330, 2209, 4550, 4435, 4779, 1831, 2255,  539, 5464, 6041,\n",
              "       4068, 4683, 4033, 6314,  614, 3149, 4005, 4880, 4136,  705,  570,\n",
              "        269, 4275, 5999, 4421, 6930, 5195,  546,  493,  995, 1163, 6676,\n",
              "       3608,  774, 1421, 4064, 2725, 5934, 1867, 3721, 2374, 2909, 1648,\n",
              "        799, 7102, 3941, 7422,  437, 1231, 1696, 4921,  221, 6500, 3575,\n",
              "       4061,  651,  753,  518, 5537, 4108, 5376, 3066,  177,   36,  299,\n",
              "       1447, 2599,  702,  133,  153,  500, 2127, 2203])"
            ]
          },
          "metadata": {},
          "execution_count": 65
        }
      ],
      "source": [
        "step_count"
      ]
    },
    {
      "cell_type": "markdown",
      "source": [
        "**What will be shape of this array?**"
      ],
      "metadata": {
        "id": "2jcKlrkSJOcq"
      }
    },
    {
      "cell_type": "code",
      "source": [
        "step_count.shape"
      ],
      "metadata": {
        "id": "3J5pZRhwJRX3",
        "colab": {
          "base_uri": "https://localhost:8080/"
        },
        "outputId": "11bf2669-67aa-4c8a-9714-60dca286163a"
      },
      "execution_count": 66,
      "outputs": [
        {
          "output_type": "execute_result",
          "data": {
            "text/plain": [
              "(96,)"
            ]
          },
          "metadata": {},
          "execution_count": 66
        }
      ]
    },
    {
      "cell_type": "markdown",
      "source": [
        "* We saw in last class that since it is a 1D array, its shape will be `(96, )`.\n",
        "* If it were a 2D array, its shape would've been `(96, 1)`."
      ],
      "metadata": {
        "id": "ZxR909ZUJbBr"
      }
    },
    {
      "cell_type": "markdown",
      "metadata": {
        "id": "EiicKEnqaQef"
      },
      "source": [
        "**Calories Burned**"
      ]
    },
    {
      "cell_type": "code",
      "execution_count": 67,
      "metadata": {
        "id": "58wybBA8aSfJ",
        "colab": {
          "base_uri": "https://localhost:8080/"
        },
        "outputId": "d8d36860-de32-46e6-b21c-d90244445876"
      },
      "outputs": [
        {
          "output_type": "execute_result",
          "data": {
            "text/plain": [
              "dtype('int64')"
            ]
          },
          "metadata": {},
          "execution_count": 67
        }
      ],
      "source": [
        "calories_burned = np.array(calories_burned, dtype='int')\n",
        "calories_burned.dtype"
      ]
    },
    {
      "cell_type": "markdown",
      "metadata": {
        "id": "Xy2ooExhaXg6"
      },
      "source": [
        "**Hours of Sleep**"
      ]
    },
    {
      "cell_type": "code",
      "execution_count": 68,
      "metadata": {
        "id": "D-w8VvuEaTjn",
        "colab": {
          "base_uri": "https://localhost:8080/"
        },
        "outputId": "b89b3ede-d136-45be-d526-ca45bec942a1"
      },
      "outputs": [
        {
          "output_type": "execute_result",
          "data": {
            "text/plain": [
              "dtype('int64')"
            ]
          },
          "metadata": {},
          "execution_count": 68
        }
      ],
      "source": [
        "hours_of_sleep = np.array(hours_of_sleep, dtype='int')\n",
        "hours_of_sleep.dtype"
      ]
    },
    {
      "cell_type": "markdown",
      "metadata": {
        "id": "tf9hP1fUanDd"
      },
      "source": [
        "**Mood**\n",
        "\n",
        "`Mood` belongs to categorical data type. As the name suggests, categorical data type has two or more categories in it.\n",
        "\n",
        "Let's check the values of `mood` variable -"
      ]
    },
    {
      "cell_type": "code",
      "execution_count": 69,
      "metadata": {
        "id": "26d6fe5e",
        "colab": {
          "base_uri": "https://localhost:8080/"
        },
        "outputId": "d1450491-fd73-4ce4-d327-500ed5e0cb42"
      },
      "outputs": [
        {
          "output_type": "execute_result",
          "data": {
            "text/plain": [
              "array(['Neutral', 'Sad', 'Sad', 'Sad', 'Neutral', 'Sad', 'Sad', 'Sad',\n",
              "       'Sad', 'Sad', 'Sad', 'Sad', 'Happy', 'Sad', 'Sad', 'Sad', 'Sad',\n",
              "       'Neutral', 'Neutral', 'Neutral', 'Neutral', 'Neutral', 'Neutral',\n",
              "       'Happy', 'Neutral', 'Happy', 'Happy', 'Happy', 'Happy', 'Happy',\n",
              "       'Happy', 'Happy', 'Neutral', 'Happy', 'Happy', 'Happy', 'Happy',\n",
              "       'Happy', 'Happy', 'Happy', 'Happy', 'Happy', 'Happy', 'Neutral',\n",
              "       'Happy', 'Happy', 'Happy', 'Happy', 'Happy', 'Happy', 'Happy',\n",
              "       'Happy', 'Happy', 'Neutral', 'Sad', 'Happy', 'Happy', 'Happy',\n",
              "       'Happy', 'Happy', 'Happy', 'Happy', 'Sad', 'Neutral', 'Neutral',\n",
              "       'Sad', 'Sad', 'Neutral', 'Neutral', 'Happy', 'Neutral', 'Neutral',\n",
              "       'Sad', 'Neutral', 'Sad', 'Neutral', 'Neutral', 'Sad', 'Sad', 'Sad',\n",
              "       'Sad', 'Happy', 'Neutral', 'Happy', 'Neutral', 'Sad', 'Sad', 'Sad',\n",
              "       'Neutral', 'Neutral', 'Sad', 'Sad', 'Happy', 'Neutral', 'Neutral',\n",
              "       'Happy'], dtype='<U10')"
            ]
          },
          "metadata": {},
          "execution_count": 69
        }
      ],
      "source": [
        "mood"
      ]
    },
    {
      "cell_type": "code",
      "execution_count": 70,
      "metadata": {
        "id": "5Oh9BXe8bDIA",
        "colab": {
          "base_uri": "https://localhost:8080/"
        },
        "outputId": "6e89e929-4aad-4dbc-804c-6ee336ab61c5"
      },
      "outputs": [
        {
          "output_type": "execute_result",
          "data": {
            "text/plain": [
              "array(['Happy', 'Neutral', 'Sad'], dtype='<U10')"
            ]
          },
          "metadata": {},
          "execution_count": 70
        }
      ],
      "source": [
        "np.unique(mood)"
      ]
    },
    {
      "cell_type": "markdown",
      "metadata": {
        "id": "eM70740Pb6g7"
      },
      "source": [
        "**Activity Status**"
      ]
    },
    {
      "cell_type": "code",
      "execution_count": 71,
      "metadata": {
        "id": "64Nl1AVOb9-q",
        "colab": {
          "base_uri": "https://localhost:8080/"
        },
        "outputId": "6da0e689-2d48-4458-cf74-7132d45df576"
      },
      "outputs": [
        {
          "output_type": "execute_result",
          "data": {
            "text/plain": [
              "array(['Inactive', 'Inactive', 'Inactive', 'Inactive', 'Active',\n",
              "       'Inactive', 'Inactive', 'Inactive', 'Inactive', 'Inactive',\n",
              "       'Inactive', 'Inactive', 'Active', 'Inactive', 'Inactive',\n",
              "       'Inactive', 'Inactive', 'Inactive', 'Inactive', 'Inactive',\n",
              "       'Inactive', 'Inactive', 'Inactive', 'Inactive', 'Inactive',\n",
              "       'Active', 'Inactive', 'Inactive', 'Inactive', 'Inactive', 'Active',\n",
              "       'Inactive', 'Inactive', 'Inactive', 'Inactive', 'Inactive',\n",
              "       'Active', 'Active', 'Active', 'Active', 'Active', 'Active',\n",
              "       'Active', 'Active', 'Active', 'Inactive', 'Inactive', 'Inactive',\n",
              "       'Inactive', 'Inactive', 'Inactive', 'Active', 'Active', 'Active',\n",
              "       'Active', 'Active', 'Active', 'Active', 'Active', 'Active',\n",
              "       'Active', 'Active', 'Active', 'Inactive', 'Active', 'Active',\n",
              "       'Inactive', 'Active', 'Active', 'Active', 'Active', 'Active',\n",
              "       'Inactive', 'Active', 'Active', 'Active', 'Active', 'Inactive',\n",
              "       'Inactive', 'Inactive', 'Inactive', 'Active', 'Active', 'Active',\n",
              "       'Active', 'Inactive', 'Inactive', 'Inactive', 'Inactive',\n",
              "       'Inactive', 'Inactive', 'Inactive', 'Inactive', 'Active',\n",
              "       'Inactive', 'Active'], dtype='<U10')"
            ]
          },
          "metadata": {},
          "execution_count": 71
        }
      ],
      "source": [
        "activity_status"
      ]
    },
    {
      "cell_type": "markdown",
      "source": [
        "Since we've extracted form the same source array, we know that\n",
        "- `mood[0]` and `step_count[0]`\n",
        "- There is a connection between them, as they belong to the same record.\n",
        "\n",
        "Also, we know that their length will be the same, i.e. `96`"
      ],
      "metadata": {
        "id": "d1Bds_cIvaUI"
      }
    },
    {
      "cell_type": "markdown",
      "source": [
        "Now let's look at something really interesting.\n",
        "\n",
        "**Can we extract the step counts, when the mood was Happy?**"
      ],
      "metadata": {
        "id": "_yZuVsjQwG49"
      }
    },
    {
      "cell_type": "code",
      "source": [
        "step_count_happy = step_count[mood == 'Happy']"
      ],
      "metadata": {
        "id": "SA9M5RcqwV3K"
      },
      "execution_count": 72,
      "outputs": []
    },
    {
      "cell_type": "code",
      "source": [
        "len(step_count_happy)"
      ],
      "metadata": {
        "id": "V4aK8e6xAIO2",
        "colab": {
          "base_uri": "https://localhost:8080/"
        },
        "outputId": "bfb01ec7-34ec-4b69-e623-57226ff2046e"
      },
      "execution_count": 73,
      "outputs": [
        {
          "output_type": "execute_result",
          "data": {
            "text/plain": [
              "40"
            ]
          },
          "metadata": {},
          "execution_count": 73
        }
      ]
    },
    {
      "cell_type": "markdown",
      "source": [
        "Let's also find for when the mood was Sad."
      ],
      "metadata": {
        "id": "fRfN91OrwpHK"
      }
    },
    {
      "cell_type": "code",
      "source": [
        "step_count_sad = step_count[mood == 'Sad']\n",
        "step_count_sad"
      ],
      "metadata": {
        "id": "8EKQAAOkwrkP",
        "colab": {
          "base_uri": "https://localhost:8080/"
        },
        "outputId": "7e94c038-aa5d-415d-8cfa-66c9fbec84d8"
      },
      "execution_count": 74,
      "outputs": [
        {
          "output_type": "execute_result",
          "data": {
            "text/plain": [
              "array([6041,   25, 5461, 4545, 4340, 1230,   61, 1258, 3148, 4687, 3519,\n",
              "       1580, 2822,  181, 6676, 3721, 1648,  799, 1696,  221, 4061,  651,\n",
              "        753,  518,  177,   36,  299,  702,  133])"
            ]
          },
          "metadata": {},
          "execution_count": 74
        }
      ]
    },
    {
      "cell_type": "code",
      "source": [
        "len(step_count_sad)"
      ],
      "metadata": {
        "id": "Yb5VS3MOwwmv",
        "colab": {
          "base_uri": "https://localhost:8080/"
        },
        "outputId": "d07fa7cf-706c-41b7-dd85-9b5edd8ca401"
      },
      "execution_count": 75,
      "outputs": [
        {
          "output_type": "execute_result",
          "data": {
            "text/plain": [
              "29"
            ]
          },
          "metadata": {},
          "execution_count": 75
        }
      ]
    },
    {
      "cell_type": "markdown",
      "source": [
        "Let's do the same for when the mood was Neutral."
      ],
      "metadata": {
        "id": "xIjdyzGDw9eq"
      }
    },
    {
      "cell_type": "code",
      "source": [
        "step_count_neutral = step_count[mood == 'Neutral']\n",
        "step_count_neutral"
      ],
      "metadata": {
        "id": "BxJJkHPOw9fG",
        "colab": {
          "base_uri": "https://localhost:8080/"
        },
        "outputId": "a383067f-7d11-48e0-e318-603e7612420c"
      },
      "execution_count": 76,
      "outputs": [
        {
          "output_type": "execute_result",
          "data": {
            "text/plain": [
              "array([5464, 6915, 3158, 4383, 3881, 4037,  202,  292, 2209, 6041,  570,\n",
              "       1163, 2374, 2909, 7102, 3941,  437, 1231, 4921, 6500, 3575, 4108,\n",
              "       3066, 1447, 2599,  500, 2127])"
            ]
          },
          "metadata": {},
          "execution_count": 76
        }
      ]
    },
    {
      "cell_type": "code",
      "source": [
        "len(step_count_neutral)"
      ],
      "metadata": {
        "id": "yec0sBcXw9fH",
        "colab": {
          "base_uri": "https://localhost:8080/"
        },
        "outputId": "ec88d318-e38e-4453-cd35-ff83b42fd6b7"
      },
      "execution_count": 77,
      "outputs": [
        {
          "output_type": "execute_result",
          "data": {
            "text/plain": [
              "27"
            ]
          },
          "metadata": {},
          "execution_count": 77
        }
      ]
    },
    {
      "cell_type": "markdown",
      "source": [
        "**How can we collect data for when the mood was either happy or neutral?**"
      ],
      "metadata": {
        "id": "biTekrfBxKr0"
      }
    },
    {
      "cell_type": "code",
      "source": [
        "step_count_happy_or_neutral = step_count[(mood == 'Neutral') | (mood == 'Happy')]\n",
        "step_count_happy_or_neutral"
      ],
      "metadata": {
        "id": "6kgpwQhjxZt3",
        "colab": {
          "base_uri": "https://localhost:8080/"
        },
        "outputId": "14b9f462-a7fa-4485-977a-c036238446e2"
      },
      "execution_count": 78,
      "outputs": [
        {
          "output_type": "execute_result",
          "data": {
            "text/plain": [
              "array([5464, 6915, 4732, 3158, 4383, 3881, 4037,  202,  292,  330, 2209,\n",
              "       4550, 4435, 4779, 1831, 2255,  539, 5464, 6041, 4068, 4683, 4033,\n",
              "       6314,  614, 3149, 4005, 4880, 4136,  705,  570,  269, 4275, 5999,\n",
              "       4421, 6930, 5195,  546,  493,  995, 1163, 3608,  774, 1421, 4064,\n",
              "       2725, 5934, 1867, 2374, 2909, 7102, 3941, 7422,  437, 1231, 4921,\n",
              "       6500, 3575, 5537, 4108, 5376, 3066, 1447, 2599,  153,  500, 2127,\n",
              "       2203])"
            ]
          },
          "metadata": {},
          "execution_count": 78
        }
      ]
    },
    {
      "cell_type": "code",
      "source": [
        "len(step_count_happy_or_neutral)"
      ],
      "metadata": {
        "id": "C8j7kTFfxZuF",
        "colab": {
          "base_uri": "https://localhost:8080/"
        },
        "outputId": "748f48cd-a11d-4c31-a969-6c05f7dccc02"
      },
      "execution_count": 79,
      "outputs": [
        {
          "output_type": "execute_result",
          "data": {
            "text/plain": [
              "67"
            ]
          },
          "metadata": {},
          "execution_count": 79
        }
      ]
    },
    {
      "cell_type": "markdown",
      "metadata": {
        "id": "6ILytZ8fkCvp"
      },
      "source": [
        "**Let's try to compare step counts on bad mood days and good mood days.**"
      ]
    },
    {
      "cell_type": "code",
      "execution_count": 80,
      "metadata": {
        "id": "Mi_JuVdNkcx-",
        "colab": {
          "base_uri": "https://localhost:8080/"
        },
        "outputId": "7b1d3a31-f8dc-4d6b-84e1-0ffc23b2abd1"
      },
      "outputs": [
        {
          "output_type": "execute_result",
          "data": {
            "text/plain": [
              "2103.0689655172414"
            ]
          },
          "metadata": {},
          "execution_count": 80
        }
      ],
      "source": [
        "# Average step count on Sad mood days -\n",
        "\n",
        "np.mean(step_count_sad)"
      ]
    },
    {
      "cell_type": "code",
      "execution_count": 81,
      "metadata": {
        "id": "tqc73GG_khss",
        "colab": {
          "base_uri": "https://localhost:8080/"
        },
        "outputId": "5f6ab023-6edd-49e3-e0e6-4bdb6b332cbf"
      },
      "outputs": [
        {
          "output_type": "execute_result",
          "data": {
            "text/plain": [
              "3392.725"
            ]
          },
          "metadata": {},
          "execution_count": 81
        }
      ],
      "source": [
        "# Average step count on Happy days -\n",
        "\n",
        "np.mean(step_count_happy)"
      ]
    },
    {
      "cell_type": "code",
      "execution_count": 82,
      "metadata": {
        "id": "Lf8r6Pi8yQn3",
        "colab": {
          "base_uri": "https://localhost:8080/"
        },
        "outputId": "06eddb16-d735-4bcc-ad8a-d92ec62787e2"
      },
      "outputs": [
        {
          "output_type": "execute_result",
          "data": {
            "text/plain": [
              "3153.777777777778"
            ]
          },
          "metadata": {},
          "execution_count": 82
        }
      ],
      "source": [
        "# Average step count on Neutral days -\n",
        "\n",
        "np.mean(step_count_neutral)"
      ]
    },
    {
      "cell_type": "markdown",
      "source": [
        "As you can see, this data tells us a lot about user behaviour.\n",
        "\n",
        "This way we can analyze data and learn.\n",
        "\n",
        "This is just the second class on numpy, we will learn many more concepts related to this, and pandas also."
      ],
      "metadata": {
        "id": "hxevvmK4yYAs"
      }
    },
    {
      "cell_type": "markdown",
      "metadata": {
        "id": "LQNvtZ1rlU9y"
      },
      "source": [
        "**Let's try to check the mood when step count was greater/lesser.**"
      ]
    },
    {
      "cell_type": "code",
      "execution_count": 83,
      "metadata": {
        "id": "TyQDns17lek8",
        "colab": {
          "base_uri": "https://localhost:8080/"
        },
        "outputId": "2e4e3ee1-2085-4371-b98a-c9ddcfdf9556"
      },
      "outputs": [
        {
          "output_type": "execute_result",
          "data": {
            "text/plain": [
              "(array(['Happy', 'Neutral', 'Sad'], dtype='<U10'), array([22,  9,  7]))"
            ]
          },
          "metadata": {},
          "execution_count": 83
        }
      ],
      "source": [
        "# mood when step count > 4000\n",
        "\n",
        "np.unique(mood[step_count > 4000], return_counts = True)"
      ]
    },
    {
      "cell_type": "markdown",
      "metadata": {
        "id": "FEmry7IUlkZn"
      },
      "source": [
        "Out of 38 days when step count was more than 4000, user was feeling happy on 22 days."
      ]
    },
    {
      "cell_type": "code",
      "execution_count": 84,
      "metadata": {
        "id": "htueN494lyqa",
        "colab": {
          "base_uri": "https://localhost:8080/"
        },
        "outputId": "fb3dd31e-9873-4c10-bdcd-3a08cf63b95e"
      },
      "outputs": [
        {
          "output_type": "execute_result",
          "data": {
            "text/plain": [
              "(array(['Happy', 'Neutral', 'Sad'], dtype='<U10'), array([13,  8, 18]))"
            ]
          },
          "metadata": {},
          "execution_count": 84
        }
      ],
      "source": [
        "# mood when step count <= 2000\n",
        "\n",
        "np.unique(mood[step_count <= 2000], return_counts = True)"
      ]
    },
    {
      "cell_type": "markdown",
      "metadata": {
        "id": "suk18w4VmEJx"
      },
      "source": [
        "Out of 39 days, when step count was less than 2000, user was feeling sad on 18 days."
      ]
    },
    {
      "cell_type": "markdown",
      "metadata": {
        "id": "rQmdcuhBmNaS"
      },
      "source": [
        "#### **This suggests that there may be a correlation between the `Mood` and `Step Count`.**"
      ]
    },
    {
      "cell_type": "markdown",
      "source": [
        "---"
      ],
      "metadata": {
        "id": "GPMgkDT25tVS"
      }
    },
    {
      "cell_type": "code",
      "source": [],
      "metadata": {
        "id": "fnffmKB_57et"
      },
      "execution_count": 84,
      "outputs": []
    }
  ]
}